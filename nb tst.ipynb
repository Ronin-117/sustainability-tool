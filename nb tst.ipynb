{
 "cells": [
  {
   "cell_type": "markdown",
   "metadata": {},
   "source": [
    "## watsonx API connection\n",
    "This cell defines the credentials required to work with watsonx API for Foundation\n",
    "Model inferencing.\n",
    "\n",
    "**Action:** Provide the IBM Cloud personal API key. For details, see\n",
    "<a href=\"https://cloud.ibm.com/docs/account?topic=account-userapikey&interface=ui\" target=\"_blank\">documentation</a>.\n"
   ]
  },
  {
   "cell_type": "code",
   "execution_count": 2,
   "metadata": {},
   "outputs": [],
   "source": [
    "import os\n",
    "import getpass\n",
    "\n",
    "def get_credentials():\n",
    "\treturn {\n",
    "\t\t\"url\" : \"https://us-south.ml.cloud.ibm.com\",\n",
    "\t\t\"apikey\" : \"J14o6F-AbNvrs3EQjgf6n-c35bZlW_nrEq-FQY6ybRBz\"\n",
    "\t}\n"
   ]
  },
  {
   "cell_type": "markdown",
   "metadata": {},
   "source": [
    "# Inferencing\n",
    "This cell demonstrated how we can use the model object as well as the created access token\n",
    "to pair it with parameters and input string to obtain\n",
    "the response from the the selected foundation model.\n",
    "\n",
    "## Defining the model id\n",
    "We need to specify model id that will be used for inferencing:\n"
   ]
  },
  {
   "cell_type": "code",
   "execution_count": 3,
   "metadata": {},
   "outputs": [],
   "source": [
    "model_id = \"ibm/granite-13b-chat-v2\"\n"
   ]
  },
  {
   "cell_type": "markdown",
   "metadata": {},
   "source": [
    "## Defining the model parameters\n",
    "We need to provide a set of model parameters that will influence the\n",
    "result:"
   ]
  },
  {
   "cell_type": "code",
   "execution_count": 4,
   "metadata": {},
   "outputs": [],
   "source": [
    "parameters = {\n",
    "    \"decoding_method\": \"greedy\",\n",
    "    \"max_new_tokens\": 2,\n",
    "    \"repetition_penalty\": 1\n",
    "}\n",
    "parameters_1 = {\n",
    "    \"decoding_method\": \"greedy\",\n",
    "    \"max_new_tokens\": 100,\n",
    "    \"repetition_penalty\": 1\n",
    "}\n",
    "parameters_2 = {\n",
    "    \"decoding_method\": \"greedy\",\n",
    "    \"max_new_tokens\": 80,\n",
    "    \"repetition_penalty\": 1\n",
    "}"
   ]
  },
  {
   "cell_type": "code",
   "execution_count": 5,
   "metadata": {},
   "outputs": [
    {
     "data": {
      "text/plain": [
       "{'decoding_method': 'greedy', 'max_new_tokens': 2, 'repetition_penalty': 1}"
      ]
     },
     "execution_count": 5,
     "metadata": {},
     "output_type": "execute_result"
    }
   ],
   "source": [
    "parameters"
   ]
  },
  {
   "cell_type": "markdown",
   "metadata": {},
   "source": [
    "## Defining the project id or space id\n",
    "The API requires project id or space id that provides the context for the call. We will obtain\n",
    "the id from the project or space in which this notebook runs:"
   ]
  },
  {
   "cell_type": "code",
   "execution_count": 6,
   "metadata": {},
   "outputs": [],
   "source": [
    "project_id = os.getenv(\"PROJECT_ID\")\n",
    "space_id = os.getenv(\"SPACE_ID\")\n"
   ]
  },
  {
   "cell_type": "markdown",
   "metadata": {},
   "source": [
    "## Defining the Model object\n",
    "We need to define the Model object using the properties we defined so far:\n"
   ]
  },
  {
   "cell_type": "code",
   "execution_count": 7,
   "metadata": {},
   "outputs": [],
   "source": [
    "from ibm_watsonx_ai.foundation_models import Model\n",
    "\n",
    "model = Model(\n",
    "\tmodel_id = model_id,\n",
    "\tparams = parameters,\n",
    "\tcredentials = get_credentials(),\n",
    "\tproject_id = project_id,\n",
    "\tspace_id = space_id\n",
    "\t)\n",
    "model_1 = Model(\n",
    "\tmodel_id = model_id,\n",
    "\tparams = parameters_1,\n",
    "\tcredentials = get_credentials(),\n",
    "\tproject_id = project_id,\n",
    "\tspace_id = space_id\n",
    "\t)\n",
    "model_2 = Model(\n",
    "\tmodel_id = model_id,\n",
    "\tparams = parameters_2,\n",
    "\tcredentials = get_credentials(),\n",
    "\tproject_id = project_id,\n",
    "\tspace_id = space_id\n",
    "\t)"
   ]
  },
  {
   "cell_type": "markdown",
   "metadata": {},
   "source": [
    "## Defining the inferencing input\n",
    "Foundation model inferencing API accepts a natural language input that it will use\n",
    "to provide the natural language response. The API is sensitive to formatting. Input\n",
    "structure, presence of training steps (one-shot, two-shot learning etc.), as well\n",
    "as phrasing all influence the final response and belongs to the emerging discipline of\n",
    "Prompt Engineering.\n",
    "\n",
    "Let us provide the input we got from the Prompt Lab:\n"
   ]
  },
  {
   "cell_type": "code",
   "execution_count": 8,
   "metadata": {},
   "outputs": [],
   "source": [
    "prompt_input_0 = \"\"\"analyze the input text and respond 1, 2. If input describes about a project idea then respond 1, if input is asking whether a material is good or not then respond 2\n",
    "\n",
    "Input: The project aims to plant thousands of trees in urban areas across the city. By creating green corridors and expanding green spaces, it will enhance urban biodiversity, provide shade, improve air quality, and reduce the urban heat island effect. Additionally, the project will engage local communities through educational programs about the benefits of trees.\n",
    "Output: 1\n",
    "\n",
    "Input: The project involves replacing traditional lighting in public buildings with energy-efficient LED lights. This upgrade aims to reduce energy consumption and lower the buildings' carbon footprint.\n",
    "Output: 1\n",
    "\n",
    "Input: The project proposes constructing a new highway to alleviate traffic congestion in the city. The highway will cut through several natural habitats and require significant land clearing.\n",
    "Output: 1\n",
    "\n",
    "Input: The project seeks to start oil drilling operations in a marine protected area, arguing that it will boost the local economy and energy independence. The drilling site is home to several endangered marine species.\n",
    "Output: 1\n",
    "\n",
    "Input: I would like to use plastic to make the container.\n",
    "Output: 2\n",
    "\n",
    "Input: Is Styrofoam good for making the padding.\n",
    "Output: 2\n",
    "\n",
    "Input: Is bamboo a good choice of material.\n",
    "Output: 2\n",
    "\n",
    "\n",
    "\"\"\"\n",
    "prompt_input_1 = \"\"\"analyze the project idea description and respond Very good, Good, Bad, Very bad depending on its impact on environment.\n",
    "\n",
    "Input: The project aims to plant thousands of trees in urban areas across the city. By creating green corridors and expanding green spaces, it will enhance urban biodiversity, provide shade, improve air quality, and reduce the urban heat island effect. Additionally, the project will engage local communities through educational programs about the benefits of trees.\n",
    "Output: Very good. This project will improve air quality, reduce urban heat islands, and increase biodiversity in cities. Planting trees also sequesters carbon, helping mitigate climate change.\n",
    "\n",
    "Input: This initiative seeks to deploy solar-powered water purification units in rural and remote areas. These systems use renewable solar energy to purify contaminated water sources, providing clean drinking water to communities without access to safe water.\n",
    "Output: Very good. This project uses renewable solar energy to provide clean drinking water, reducing reliance on fossil fuels and decreasing waterborne diseases without emitting pollutants.\n",
    "\n",
    "Input: The project involves replacing traditional lighting in public buildings with energy-efficient LED lights. This upgrade aims to reduce energy consumption and lower the buildings' carbon footprint.\n",
    "Output: Good. This project will reduce energy consumption and lower carbon emissions, though it does not address renewable energy sources.\n",
    "\n",
    "Input: This project proposes installing green roofs on commercial buildings in the downtown area. Green roofs will help reduce stormwater runoff, provide insulation, and create green spaces in urban environments.\n",
    "Output: Good. Green roofs offer multiple environmental benefits, including reduced stormwater runoff and improved insulation, though their impact is limited to specific buildings.\n",
    "\n",
    "Input: The project proposes constructing a new highway to alleviate traffic congestion in the city. The highway will cut through several natural habitats and require significant land clearing.\n",
    "Output: Bad. Constructing a new highway will destroy natural habitats, increase pollution, and encourage more car use, contributing negatively to the environment.\n",
    "\n",
    "Input: This project aims to develop a large shopping mall in a suburban area, which will include vast parking spaces and attract heavy traffic. It promises economic growth and job creation.\n",
    "Output: Bad. Developing a large shopping mall in suburban areas increases urban sprawl, traffic congestion, and pollution, negatively impacting the environment.\n",
    "\n",
    "Input: The project seeks to start oil drilling operations in a marine protected area, arguing that it will boost the local economy and energy independence. The drilling site is home to several endangered marine species.\n",
    "Output: Very bad. Oil drilling in a marine protected area endangers marine life, risks oil spills, and contributes to climate change, causing significant environmental harm.\n",
    "\n",
    "Input: This project aims to establish a large-scale industrial mining operation in a pristine forest region rich in minerals. It promises significant economic benefits and job creation for the local community.\n",
    "Output: Very bad. Large-scale mining in a pristine forest leads to deforestation, habitat destruction, and pollution of water sources, with devastating environmental impacts.\n",
    "\n",
    "Input: The project focuses on developing packaging materials made from biodegradable and compostable substances, such as plant-based plastics and recycled paper. This eco-friendly packaging will replace traditional plastic packaging used by local businesses.\n",
    "Output: Very good. This project aims to create biodegradable and compostable packaging materials, reducing plastic waste and pollution in landfills and oceans.\n",
    "\n",
    "Input: This project involves expanding the city's public transportation network by adding new bus and rail lines, improving service frequency, and enhancing accessibility for all residents. It aims to encourage more people to use public transportation instead of private cars.\n",
    "Output: Very good. Improving public transportation reduces the number of individual car trips, lowering greenhouse gas emissions and decreasing traffic congestion.\n",
    "\n",
    "Input: The project proposes building a new airport in a wetland area to accommodate increasing air travel demands. The wetlands are crucial habitats for numerous bird species and play a vital role in flood control.\n",
    "Output: Very bad. Constructing an airport in a wetland area destroys critical habitats, disrupts ecosystems, and increases pollution, severely impacting the environment.\n",
    "\n",
    "Input: The project involves expanding a chemical plant's production capacity near a residential area. The plant has a history of toxic emissions and chemical spills, raising health and safety concerns.\n",
    "Output: Very bad. Expanding a chemical plant near residential areas increases the risk of toxic emissions and chemical spills, endangering public health and the environment.\n",
    "\n",
    "Input: The project involves expanding the capacity of an existing coal-fired power plant to meet growing energy demands. This expansion will increase coal consumption and associated emissions.\n",
    "Output: Bad. Expanding a coal-fired power plant will significantly increase carbon emissions and air pollution, harming the environment and public health.\n",
    "\n",
    "\"\"\"\n",
    "prompt_input_2 = \"\"\"tell the \"sustainable alternative\" of the input material or object or process and explain how is it better. If it is already sustainable then just tell its a good choice and explain why. Give a sustainability  outlook of the input material\n",
    "\n",
    "Input: Is Plastic used for making bottles a good idea\n",
    "Output: BAD CHOICE ,A good alternative is stainless steel bottles. Stainless steel bottles are better because they are durable, reusable, and do not leach harmful chemicals into the water. They also reduce plastic waste in landfills and oceans.\n",
    "\n",
    "Input: Is using Styrofoam for Packaging good\n",
    "Output:  BAD CHOICE ,A good alternative is biodegradable packaging made from cornstarch. Cornstarch packaging is better because it breaks down naturally in the environment without leaving toxic residues, reducing pollution and waste.\n",
    "\n",
    "Input: Conventional Diesel Engines for making a car\n",
    "Output: BAD CHOICE ,A good alternative is electric engines. Electric engines are better because they produce zero emissions, reducing air pollution and greenhouse gas emissions, contributing to cleaner air and combating climate change.\n",
    "\n",
    "Input: Synthetic Fertilizers used instead of Organic fertilizers\n",
    "Output: BAD CHOICE ,A good alternative is compost or organic fertilizers. Organic fertilizers are better because they improve soil health, promote biodiversity, and do not cause chemical run-off that can harm waterways and aquatic life.\n",
    "\n",
    "Input: Single-Use Plastic Straws\n",
    "Output: BAD CHOICE ,A good alternative is reusable metal straws. Metal straws are better because they can be used repeatedly, reducing plastic waste and environmental pollution. They are also easy to clean and durable.\n",
    "\n",
    "Input: Bamboo for making chair\n",
    "Output: GOOD CHOICE ,Bamboo is already a good choice. It is a highly sustainable material that grows rapidly without the need for pesticides or fertilizers. Bamboo is also biodegradable and has a lower environmental impact compared to traditional wood or plastic.\n",
    "\n",
    "Input: Recycled Paper\n",
    "Output: GOOD CHOICE ,Recycled paper is already a good choice. It reduces the need for virgin wood pulp, conserving trees and natural habitats. It also uses less energy and water during production and reduces landfill waste.\n",
    "\n",
    "Input: LED Lighting\n",
    "Output: GOOD CHOICE ,LED lighting is already a good choice. It is highly energy-efficient, using up to 80% less energy than traditional incandescent bulbs. LED lights also have a longer lifespan, reducing the need for frequent replacements and reducing waste.\n",
    "\n",
    "Input: Solar Panels\n",
    "Output: GOOD CHOICE ,Solar panels are already a good choice. They generate clean, renewable energy from the sun, reducing reliance on fossil fuels and decreasing greenhouse gas emissions. Solar panels also help in reducing electricity bills and promoting energy independence.\n",
    "\n",
    "Input: Electric Bicycles\n",
    "Output: GOOD CHOICE ,Electric bicycles are already a good choice. They provide an eco-friendly mode of transportation, reducing the reliance on cars and lowering carbon emissions. Electric bicycles also promote physical activity and can help alleviate traffic congestion.\n",
    "\n",
    "Input: Styrofoam container for ice cream\n",
    "Output:  A bad option but there isn't really any alternatives since this type if package specifically designed fo hold cold items like Icecreams etc.. However one could choose non disposable options such as bowls/cup which would still use some form o Packing materials though reduced significantly compare dto styros\n",
    "\n",
    "\"\"\""
   ]
  },
  {
   "cell_type": "code",
   "execution_count": 9,
   "metadata": {},
   "outputs": [],
   "source": [
    "prompt_input_0_n=prompt_input_0\n",
    "prompt_input_1_n=prompt_input_1\n",
    "prompt_input_2_n=prompt_input_2"
   ]
  },
  {
   "cell_type": "markdown",
   "metadata": {},
   "source": [
    "## Execution\n",
    "Let us now use the defined Model object and pair it with input and\n",
    "generate the response:\n"
   ]
  },
  {
   "cell_type": "code",
   "execution_count": 12,
   "metadata": {
    "scrolled": true
   },
   "outputs": [
    {
     "name": "stdout",
     "output_type": "stream",
     "text": [
      "enter text:Our project is about loading toxic oil into soil to increase its fertility\n",
      "\n",
      "1\n",
      "in 1\n",
      "\n",
      "Very bad. Loading toxic oil into soil is dangerous and harmful to the environment and human health. It can lead to soil and water pollution, and pose risks to ecosystems and agriculture.\n"
     ]
    }
   ],
   "source": [
    "req = input('enter text:')\n",
    "prompt_input_0 = prompt_input_0_n\n",
    "prompt_input_0+='Input: '+req+'\\n'+'Output: '\n",
    "generated_response = model.generate_text(prompt=prompt_input_0, guardrails=True)\n",
    "print(generated_response)\n",
    "if generated_response=='\\n1':\n",
    "    print('in 1')\n",
    "    prompt_input_1 = prompt_input_1_n\n",
    "    prompt_input_1+='Input: '+req+'\\n'+'Output: '\n",
    "    response_n = model_1.generate_text(prompt=prompt_input_1, guardrails=True)\n",
    "elif generated_response=='\\n2':\n",
    "    print('in 2')\n",
    "    prompt_input_2 = prompt_input_2_n\n",
    "    prompt_input_2+='Input: '+req+'\\n'+'Output: '\n",
    "    response_n = model_2.generate_text(prompt=prompt_input_2, guardrails=True)\n",
    "print(response_n)"
   ]
  }
 ],
 "metadata": {
  "kernelspec": {
   "display_name": "Python 3.10",
   "language": "python",
   "name": "python3"
  },
  "language_info": {
   "codemirror_mode": {
    "name": "ipython",
    "version": 3
   },
   "file_extension": ".py",
   "mimetype": "text/x-python",
   "name": "python",
   "nbconvert_exporter": "python",
   "pygments_lexer": "ipython3",
   "version": "3.10.14"
  }
 },
 "nbformat": 4,
 "nbformat_minor": 1
}
